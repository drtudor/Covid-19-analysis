{
 "cells": [
  {
   "cell_type": "markdown",
   "metadata": {},
   "source": [
    "# Standard  Karmack-McKendrick SIR model\n",
    "\n",
    "This model consists of three coupled non-linear differential equations which estimates the rates of susceptability, infection and recovery within the population:\n",
    "\n",
    "1. $\\frac{dS}{dt} = - \\beta SI / N$\n",
    "2. $\\frac{dI}{dt} = \\beta SI / N - \\gamma I $\n",
    "3. $\\frac{dR}{dt} = \\gamma I$\n",
    "\n",
    "Where t is the time, S the number of susceptable people, I infected people, R removed people (can simulate recovery or death), N is the summation of SIR, $\\beta$ the infection rate, $\\gamma$ the recovery rate.\n",
    "\n",
    "$R_0 = \\beta / \\gamma$"
   ]
  },
  {
   "cell_type": "markdown",
   "metadata": {},
   "source": [
    "## The modules needed to solve the coupled equation"
   ]
  },
  {
   "cell_type": "code",
   "execution_count": 24,
   "metadata": {},
   "outputs": [],
   "source": [
    "import numpy as np\n",
    "## ODE solver \n",
    "from scipy.integrate import odeint\n",
    "import matplotlib.pyplot as plt "
   ]
  },
  {
   "cell_type": "markdown",
   "metadata": {},
   "source": [
    "### Initial constants (to be changed to variables in later editions of the code)"
   ]
  },
  {
   "cell_type": "code",
   "execution_count": 25,
   "metadata": {},
   "outputs": [],
   "source": [
    "beta = 0.03 #Infection rate\n",
    "gamma = 0.03 #Recovery rate "
   ]
  },
  {
   "cell_type": "code",
   "execution_count": 26,
   "metadata": {},
   "outputs": [],
   "source": [
    "def f1(U,t):\n",
    "    S = (-beta * U[0] *U[1]) / (U[0] + U[1] + U[2])\n",
    "    I = (beta * U[0] *U[1])/ (U[0] + U[1] + U[2]) - gamma * U[1]\n",
    "    R = 0.1 * U[1]\n",
    "    return [S,I,R]"
   ]
  },
  {
   "cell_type": "code",
   "execution_count": 27,
   "metadata": {},
   "outputs": [],
   "source": [
    "ts = np.linspace(0,100,10000)\n",
    "# Initial conditions - Assumed everyone is susceptable and some people are already infected \n",
    "Tot_init = [500,1,0]\n",
    "\n",
    "#ODE solver \n",
    "Total = odeint(f1,Tot_init,ts)\n",
    "\n",
    "S = Total[:,0]\n",
    "I = Total[:,1]\n",
    "R = Total[:,2]"
   ]
  },
  {
   "cell_type": "code",
   "execution_count": 28,
   "metadata": {},
   "outputs": [
    {
     "data": {
      "image/png": "[encoded data removed]",
      "text/plain": [
       "<Figure size 432x288 with 1 Axes>"
      ]
     },
     "metadata": {
      "needs_background": "light"
     },
     "output_type": "display_data"
    }
   ],
   "source": [
    "plt.plot(ts,S,'b--', label = \"S\")\n",
    "plt.plot(ts,I,'r--', label = \"I\")\n",
    "plt.plot(ts,R,'k--', label = \"R\")\n",
    "plt.xlabel(\"Time\")\n",
    "plt.ylabel(\"Number of people\")\n",
    "plt.legend()\n",
    "plt.show()"
   ]
  },
  {
   "cell_type": "code",
   "execution_count": null,
   "metadata": {},
   "outputs": [],
   "source": []
  }
 ],
 "metadata": {
  "kernelspec": {
   "display_name": "Python 3",
   "language": "python",
   "name": "python3"
  },
  "language_info": {
   "codemirror_mode": {
    "name": "ipython",
    "version": 3
   },
   "file_extension": ".py",
   "mimetype": "text/x-python",
   "name": "python",
   "nbconvert_exporter": "python",
   "pygments_lexer": "ipython3",
   "version": "3.7.6"
  }
 },
 "nbformat": 4,
 "nbformat_minor": 4
}
